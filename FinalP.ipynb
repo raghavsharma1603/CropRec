{
  "cells": [
    {
      "cell_type": "code",
      "execution_count": 2,
      "metadata": {
        "id": "PlYoOOpup0I2"
      },
      "outputs": [],
      "source": [
        "import pandas as pd\n",
        "from sklearn.model_selection import train_test_split, GridSearchCV\n",
        "from sklearn.ensemble import RandomForestClassifier\n",
        "from sklearn.metrics import accuracy_score\n",
        "from sklearn.impute import SimpleImputer\n"
      ]
    },
    {
      "cell_type": "code",
      "execution_count": 3,
      "metadata": {
        "colab": {
          "base_uri": "https://localhost:8080/"
        },
        "id": "BCAabZH-qPbk",
        "outputId": "acd34260-f6c1-43ae-c77c-6d6756a02aae"
      },
      "outputs": [
        {
          "name": "stdout",
          "output_type": "stream",
          "text": [
            "    N   P   K  temperature   humidity        ph    rainfall label\n",
            "0  90  42  43    20.879744  82.002744  6.502985  202.935536  rice\n",
            "1  85  58  41    21.770462  80.319644  7.038096  226.655537  rice\n",
            "2  60  55  44    23.004459  82.320763  7.840207  263.964248  rice\n",
            "3  74  35  40    26.491096  80.158363  6.980401  242.864034  rice\n",
            "4  78  42  42    20.130175  81.604873  7.628473  262.717340  rice\n"
          ]
        }
      ],
      "source": [
        "# Load dataset\n",
        "df = pd.read_csv('FinalDataset.csv')\n",
        "print(df.head())"
      ]
    },
    {
      "cell_type": "code",
      "execution_count": 4,
      "metadata": {
        "id": "QxB4hquBqQto"
      },
      "outputs": [],
      "source": [
        "# Drop rows with missing values\n",
        "df.dropna(inplace=True)\n",
        "# Separate features (X) and target variable (y)\n",
        "X = df.drop(columns=['label'])\n",
        "y = df['label']\n",
        "# Split data into training and testing sets\n",
        "X_train, X_test, y_train, y_test = train_test_split(X, y, test_size=0.2, random_state=42)"
      ]
    },
    {
      "cell_type": "code",
      "execution_count": 5,
      "metadata": {
        "id": "wUWRxu32qWIw"
      },
      "outputs": [],
      "source": [
        "# Impute missing values in features using mean\n",
        "imputer = SimpleImputer(strategy='mean')\n",
        "X_train_imputed = imputer.fit_transform(X_train)\n",
        "X_test_imputed = imputer.transform(X_test)\n",
        "# Define hyperparameters for tuning\n",
        "param_grid = {\n",
        "    'n_estimators': [100, 200, 300],  # Number of trees in the forest\n",
        "    'max_depth': [None, 10, 20, 30],  # Maximum depth of the tree\n",
        "    'min_samples_split': [2, 5, 10],  # Minimum number of samples required to split a node\n",
        "    'min_samples_leaf': [1, 2, 4]  # Minimum number of samples required at each leaf node\n",
        "}"
      ]
    },
    {
      "cell_type": "code",
      "execution_count": 6,
      "metadata": {
        "colab": {
          "base_uri": "https://localhost:8080/",
          "height": 311
        },
        "id": "cGtD3zDVqaxF",
        "outputId": "5362f849-3ea4-44b4-ec6b-67cff1b7cb07"
      },
      "outputs": [
        {
          "name": "stdout",
          "output_type": "stream",
          "text": [
            "Fitting 5 folds for each of 108 candidates, totalling 540 fits\n"
          ]
        },
        {
          "data": {
            "text/html": [
              "<style>#sk-container-id-1 {color: black;}#sk-container-id-1 pre{padding: 0;}#sk-container-id-1 div.sk-toggleable {background-color: white;}#sk-container-id-1 label.sk-toggleable__label {cursor: pointer;display: block;width: 100%;margin-bottom: 0;padding: 0.3em;box-sizing: border-box;text-align: center;}#sk-container-id-1 label.sk-toggleable__label-arrow:before {content: \"▸\";float: left;margin-right: 0.25em;color: #696969;}#sk-container-id-1 label.sk-toggleable__label-arrow:hover:before {color: black;}#sk-container-id-1 div.sk-estimator:hover label.sk-toggleable__label-arrow:before {color: black;}#sk-container-id-1 div.sk-toggleable__content {max-height: 0;max-width: 0;overflow: hidden;text-align: left;background-color: #f0f8ff;}#sk-container-id-1 div.sk-toggleable__content pre {margin: 0.2em;color: black;border-radius: 0.25em;background-color: #f0f8ff;}#sk-container-id-1 input.sk-toggleable__control:checked~div.sk-toggleable__content {max-height: 200px;max-width: 100%;overflow: auto;}#sk-container-id-1 input.sk-toggleable__control:checked~label.sk-toggleable__label-arrow:before {content: \"▾\";}#sk-container-id-1 div.sk-estimator input.sk-toggleable__control:checked~label.sk-toggleable__label {background-color: #d4ebff;}#sk-container-id-1 div.sk-label input.sk-toggleable__control:checked~label.sk-toggleable__label {background-color: #d4ebff;}#sk-container-id-1 input.sk-hidden--visually {border: 0;clip: rect(1px 1px 1px 1px);clip: rect(1px, 1px, 1px, 1px);height: 1px;margin: -1px;overflow: hidden;padding: 0;position: absolute;width: 1px;}#sk-container-id-1 div.sk-estimator {font-family: monospace;background-color: #f0f8ff;border: 1px dotted black;border-radius: 0.25em;box-sizing: border-box;margin-bottom: 0.5em;}#sk-container-id-1 div.sk-estimator:hover {background-color: #d4ebff;}#sk-container-id-1 div.sk-parallel-item::after {content: \"\";width: 100%;border-bottom: 1px solid gray;flex-grow: 1;}#sk-container-id-1 div.sk-label:hover label.sk-toggleable__label {background-color: #d4ebff;}#sk-container-id-1 div.sk-serial::before {content: \"\";position: absolute;border-left: 1px solid gray;box-sizing: border-box;top: 0;bottom: 0;left: 50%;z-index: 0;}#sk-container-id-1 div.sk-serial {display: flex;flex-direction: column;align-items: center;background-color: white;padding-right: 0.2em;padding-left: 0.2em;position: relative;}#sk-container-id-1 div.sk-item {position: relative;z-index: 1;}#sk-container-id-1 div.sk-parallel {display: flex;align-items: stretch;justify-content: center;background-color: white;position: relative;}#sk-container-id-1 div.sk-item::before, #sk-container-id-1 div.sk-parallel-item::before {content: \"\";position: absolute;border-left: 1px solid gray;box-sizing: border-box;top: 0;bottom: 0;left: 50%;z-index: -1;}#sk-container-id-1 div.sk-parallel-item {display: flex;flex-direction: column;z-index: 1;position: relative;background-color: white;}#sk-container-id-1 div.sk-parallel-item:first-child::after {align-self: flex-end;width: 50%;}#sk-container-id-1 div.sk-parallel-item:last-child::after {align-self: flex-start;width: 50%;}#sk-container-id-1 div.sk-parallel-item:only-child::after {width: 0;}#sk-container-id-1 div.sk-dashed-wrapped {border: 1px dashed gray;margin: 0 0.4em 0.5em 0.4em;box-sizing: border-box;padding-bottom: 0.4em;background-color: white;}#sk-container-id-1 div.sk-label label {font-family: monospace;font-weight: bold;display: inline-block;line-height: 1.2em;}#sk-container-id-1 div.sk-label-container {text-align: center;}#sk-container-id-1 div.sk-container {/* jupyter's `normalize.less` sets `[hidden] { display: none; }` but bootstrap.min.css set `[hidden] { display: none !important; }` so we also need the `!important` here to be able to override the default hidden behavior on the sphinx rendered scikit-learn.org. See: https://github.com/scikit-learn/scikit-learn/issues/21755 */display: inline-block !important;position: relative;}#sk-container-id-1 div.sk-text-repr-fallback {display: none;}</style><div id=\"sk-container-id-1\" class=\"sk-top-container\"><div class=\"sk-text-repr-fallback\"><pre>GridSearchCV(cv=5, estimator=RandomForestClassifier(random_state=42), n_jobs=-1,\n",
              "             param_grid={&#x27;max_depth&#x27;: [None, 10, 20, 30],\n",
              "                         &#x27;min_samples_leaf&#x27;: [1, 2, 4],\n",
              "                         &#x27;min_samples_split&#x27;: [2, 5, 10],\n",
              "                         &#x27;n_estimators&#x27;: [100, 200, 300]},\n",
              "             verbose=2)</pre><b>In a Jupyter environment, please rerun this cell to show the HTML representation or trust the notebook. <br />On GitHub, the HTML representation is unable to render, please try loading this page with nbviewer.org.</b></div><div class=\"sk-container\" hidden><div class=\"sk-item sk-dashed-wrapped\"><div class=\"sk-label-container\"><div class=\"sk-label sk-toggleable\"><input class=\"sk-toggleable__control sk-hidden--visually\" id=\"sk-estimator-id-1\" type=\"checkbox\" ><label for=\"sk-estimator-id-1\" class=\"sk-toggleable__label sk-toggleable__label-arrow\">GridSearchCV</label><div class=\"sk-toggleable__content\"><pre>GridSearchCV(cv=5, estimator=RandomForestClassifier(random_state=42), n_jobs=-1,\n",
              "             param_grid={&#x27;max_depth&#x27;: [None, 10, 20, 30],\n",
              "                         &#x27;min_samples_leaf&#x27;: [1, 2, 4],\n",
              "                         &#x27;min_samples_split&#x27;: [2, 5, 10],\n",
              "                         &#x27;n_estimators&#x27;: [100, 200, 300]},\n",
              "             verbose=2)</pre></div></div></div><div class=\"sk-parallel\"><div class=\"sk-parallel-item\"><div class=\"sk-item\"><div class=\"sk-label-container\"><div class=\"sk-label sk-toggleable\"><input class=\"sk-toggleable__control sk-hidden--visually\" id=\"sk-estimator-id-2\" type=\"checkbox\" ><label for=\"sk-estimator-id-2\" class=\"sk-toggleable__label sk-toggleable__label-arrow\">estimator: RandomForestClassifier</label><div class=\"sk-toggleable__content\"><pre>RandomForestClassifier(random_state=42)</pre></div></div></div><div class=\"sk-serial\"><div class=\"sk-item\"><div class=\"sk-estimator sk-toggleable\"><input class=\"sk-toggleable__control sk-hidden--visually\" id=\"sk-estimator-id-3\" type=\"checkbox\" ><label for=\"sk-estimator-id-3\" class=\"sk-toggleable__label sk-toggleable__label-arrow\">RandomForestClassifier</label><div class=\"sk-toggleable__content\"><pre>RandomForestClassifier(random_state=42)</pre></div></div></div></div></div></div></div></div></div></div>"
            ],
            "text/plain": [
              "GridSearchCV(cv=5, estimator=RandomForestClassifier(random_state=42), n_jobs=-1,\n",
              "             param_grid={'max_depth': [None, 10, 20, 30],\n",
              "                         'min_samples_leaf': [1, 2, 4],\n",
              "                         'min_samples_split': [2, 5, 10],\n",
              "                         'n_estimators': [100, 200, 300]},\n",
              "             verbose=2)"
            ]
          },
          "execution_count": 6,
          "metadata": {},
          "output_type": "execute_result"
        }
      ],
      "source": [
        "# Train RandomForestClassifier with Grid Search\n",
        "clf = RandomForestClassifier(random_state=42)\n",
        "grid_search = GridSearchCV(estimator=clf, param_grid=param_grid, cv=5, n_jobs=-1, verbose=2)\n",
        "grid_search.fit(X_train_imputed, y_train)"
      ]
    },
    {
      "cell_type": "code",
      "execution_count": 7,
      "metadata": {
        "colab": {
          "base_uri": "https://localhost:8080/"
        },
        "id": "SfrM94wqqdjK",
        "outputId": "f97ebbb9-4ad7-4161-9135-26b1559dd6a9"
      },
      "outputs": [
        {
          "ename": "NameError",
          "evalue": "name 'nitrogen' is not defined",
          "output_type": "error",
          "traceback": [
            "\u001b[1;31m---------------------------------------------------------------------------\u001b[0m",
            "\u001b[1;31mNameError\u001b[0m                                 Traceback (most recent call last)",
            "Cell \u001b[1;32mIn[7], line 12\u001b[0m\n\u001b[0;32m      7\u001b[0m rainfall_amount \u001b[38;5;241m=\u001b[39m \u001b[38;5;241m55\u001b[39m\n\u001b[0;32m      8\u001b[0m ph_level\u001b[38;5;241m=\u001b[39m\u001b[38;5;241m7.1\u001b[39m\n\u001b[0;32m     11\u001b[0m input_data \u001b[38;5;241m=\u001b[39m pd\u001b[38;5;241m.\u001b[39mDataFrame({\n\u001b[1;32m---> 12\u001b[0m     \u001b[38;5;124m'\u001b[39m\u001b[38;5;124mN\u001b[39m\u001b[38;5;124m'\u001b[39m: [\u001b[43mnitrogen\u001b[49m],\n\u001b[0;32m     13\u001b[0m     \u001b[38;5;124m'\u001b[39m\u001b[38;5;124mP\u001b[39m\u001b[38;5;124m'\u001b[39m: [phosphorus],\n\u001b[0;32m     14\u001b[0m     \u001b[38;5;124m'\u001b[39m\u001b[38;5;124mK\u001b[39m\u001b[38;5;124m'\u001b[39m: [potassium],\n\u001b[0;32m     15\u001b[0m     \u001b[38;5;124m'\u001b[39m\u001b[38;5;124mtemperature\u001b[39m\u001b[38;5;124m'\u001b[39m: [temperature],\n\u001b[0;32m     16\u001b[0m     \u001b[38;5;124m'\u001b[39m\u001b[38;5;124mhumidity\u001b[39m\u001b[38;5;124m'\u001b[39m: [humidity],\n\u001b[0;32m     17\u001b[0m     \u001b[38;5;124m'\u001b[39m\u001b[38;5;124mph\u001b[39m\u001b[38;5;124m'\u001b[39m: [ph_level],\n\u001b[0;32m     18\u001b[0m     \u001b[38;5;124m'\u001b[39m\u001b[38;5;124mrainfall\u001b[39m\u001b[38;5;124m'\u001b[39m: [rainfall_amount]\n\u001b[0;32m     19\u001b[0m })\n\u001b[0;32m     21\u001b[0m \u001b[38;5;66;03m# Impute missing values in input data using mean\u001b[39;00m\n\u001b[0;32m     22\u001b[0m input_data_imputed \u001b[38;5;241m=\u001b[39m imputer\u001b[38;5;241m.\u001b[39mtransform(input_data)\n",
            "\u001b[1;31mNameError\u001b[0m: name 'nitrogen' is not defined"
          ]
        }
      ],
      "source": [
        "temperature = 12\n",
        "\n",
        "N=6;\n",
        "P=233;\n",
        "K=12;\n",
        "humidity = 33\n",
        "rainfall_amount = 55\n",
        "ph_level=7.1\n",
        "\n",
        "\n",
        "input_data = pd.DataFrame({\n",
        "    'N': [nitrogen],\n",
        "    'P': [phosphorus],\n",
        "    'K': [potassium],\n",
        "    'temperature': [temperature],\n",
        "    'humidity': [humidity],\n",
        "    'ph': [ph_level],\n",
        "    'rainfall': [rainfall_amount]\n",
        "})\n",
        "\n",
        "# Impute missing values in input data using mean\n",
        "input_data_imputed = imputer.transform(input_data)\n",
        "\n",
        "# Make prediction\n",
        "recommended_crop = grid_search.predict(input_data_imputed)[0]\n",
        "\n",
        "# Print recommendation\n",
        "print(\"Recommended Crop:\", recommended_crop)\n"
      ]
    },
    {
      "cell_type": "code",
      "execution_count": null,
      "metadata": {
        "colab": {
          "base_uri": "https://localhost:8080/"
        },
        "id": "cTZb9XiWqhJy",
        "outputId": "f709dabf-8573-4547-9435-9a86e3c8ffde"
      },
      "outputs": [],
      "source": [
        "# Take input from the user\n",
        "temperature = float(input(\"Enter the current temperature of the area (in Celsius): \"))\n",
        "\n",
        "# Ask which nutrients are present\n",
        "present_nutrients = []\n",
        "while True:\n",
        "    nutrient = input(\"Enter the nutrient present in the soil (N/P/K) or type 'done' if all are entered: \").upper()\n",
        "    if nutrient == 'DONE':\n",
        "        break\n",
        "    present_nutrients.append(nutrient)\n",
        "\n",
        "# Ask for the value of each present nutrient\n",
        "nutrient_values = {}\n",
        "for nutrient in present_nutrients:\n",
        "    value = float(input(f\"Enter the amount of {nutrient} present in the soil: \"))\n",
        "    nutrient_values[nutrient] = value\n",
        "\n",
        "# Ask about humidity\n",
        "humidity_present = input(\"Is humidity present in the area? (yes/no): \").lower()\n",
        "if humidity_present == 'yes':\n",
        "    humidity = float(input(\"Enter the humidity level: \"))\n",
        "else:\n",
        "    humidity = 0  # Default value if humidity is not present\n",
        "\n",
        "# Ask about rainfall\n",
        "rainfall_present = input(\"Is rainfall present in the area? (yes/no): \").lower()\n",
        "if rainfall_present == 'yes':\n",
        "    rainfall_amount = float(input(\"Enter the amount of rainfall (in mm): \"))\n",
        "else:\n",
        "    rainfall_amount = 0  # Default value if rainfall is not present\n",
        "\n",
        "# Ask about pH level\n",
        "ph_present = input(\"Is the pH level of the soil known? (yes/no): \").lower()\n",
        "if ph_present == 'yes':\n",
        "    ph_level = float(input(\"Enter the pH level of the soil: \"))\n",
        "else:\n",
        "    ph_level = 0  # Default value if pH level is not known\n",
        "nitrogen = nutrient_values['N']\n",
        "phosphorus = nutrient_values['P']\n",
        "potassium = nutrient_values['K']\n",
        "\n",
        "# Create input data for prediction with correct feature order\n",
        "input_data = pd.DataFrame({\n",
        "    'N': [nitrogen],\n",
        "    'P': [phosphorus],\n",
        "    'K': [potassium],\n",
        "    'temperature': [temperature],\n",
        "    'humidity': [humidity],\n",
        "    'ph': [ph_level],\n",
        "    'rainfall': [rainfall_amount]\n",
        "})\n",
        "\n",
        "# Impute missing values in input data using mean\n",
        "input_data_imputed = imputer.transform(input_data)\n",
        "\n",
        "# Make prediction\n",
        "recommended_crop = grid_search.predict(input_data_imputed)[0]\n",
        "\n",
        "# Print recommendation\n",
        "print(\"Recommended Crop:\", recommended_crop)\n"
      ]
    },
    {
      "cell_type": "code",
      "execution_count": null,
      "metadata": {
        "colab": {
          "base_uri": "https://localhost:8080/"
        },
        "id": "nlRPJ2DmqnB1",
        "outputId": "9c2c6ea8-94d6-4b7d-8de5-7117442a94f7"
      },
      "outputs": [
        {
          "name": "stdout",
          "output_type": "stream",
          "text": [
            "Enter the name of the crop: maize\n",
            "Requirements for maize:\n",
            "---------------------------------\n",
            "Nutrient Requirements:\n",
            "N (Nitrogen): 71 units\n",
            "P (Phosphorus): 54 units\n",
            "K (Potassium): 16 units\n",
            "\n",
            "Environmental Requirements:\n",
            "Temperature: 22.61359953°C\n",
            "Humidity: 63.69070564%\n",
            "pH Level: 5.749914421\n",
            "Rainfall: 87.75953857 mm\n"
          ]
        }
      ],
      "source": [
        "import pandas as pd\n",
        "\n",
        "# Load dataset with crop information\n",
        "crop_data = pd.read_csv(\"FinalDataset.csv\")\n",
        "\n",
        "# Function to display crop requirements\n",
        "def display_crop_requirements(crop_name):\n",
        "    crop_info = crop_data[crop_data['label'] == crop_name].iloc[0]\n",
        "    print(f\"Requirements for {crop_name}:\")\n",
        "    print(\"---------------------------------\")\n",
        "    print(\"Nutrient Requirements:\")\n",
        "    print(f\"N (Nitrogen): {crop_info['N']} units\")\n",
        "    print(f\"P (Phosphorus): {crop_info['P']} units\")\n",
        "    print(f\"K (Potassium): {crop_info['K']} units\")\n",
        "    print(\"\\nEnvironmental Requirements:\")\n",
        "    print(f\"Temperature: {crop_info['temperature']}°C\")\n",
        "    print(f\"Humidity: {crop_info['humidity']}%\")\n",
        "    print(f\"pH Level: {crop_info['ph']}\")\n",
        "    print(f\"Rainfall: {crop_info['rainfall']} mm\")\n",
        "\n",
        "# Ask user for the name of the crop\n",
        "crop_name = input(\"Enter the name of the crop: \")\n",
        "\n",
        "# Display requirements for the specified crop\n",
        "if crop_name in crop_data['label'].values:\n",
        "    display_crop_requirements(crop_name)\n",
        "else:\n",
        "    print(\"Crop not found in dataset. Please enter a valid crop name.\")\n"
      ]
    }
  ],
  "metadata": {
    "colab": {
      "provenance": []
    },
    "kernelspec": {
      "display_name": "Python 3",
      "name": "python3"
    },
    "language_info": {
      "codemirror_mode": {
        "name": "ipython",
        "version": 3
      },
      "file_extension": ".py",
      "mimetype": "text/x-python",
      "name": "python",
      "nbconvert_exporter": "python",
      "pygments_lexer": "ipython3",
      "version": "3.9.12"
    }
  },
  "nbformat": 4,
  "nbformat_minor": 0
}
