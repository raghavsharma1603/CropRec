{
  "cells": [
    {
      "cell_type": "code",
      "execution_count": 16,
      "metadata": {
        "id": "Lu9fGFQd-DSb"
      },
      "outputs": [],
      "source": [
        "import pandas as pd\n",
        "from sklearn.model_selection import train_test_split, GridSearchCV\n",
        "from sklearn.ensemble import RandomForestClassifier\n",
        "from sklearn.metrics import accuracy_score\n",
        "from sklearn.impute import SimpleImputer\n"
      ]
    },
    {
      "cell_type": "code",
      "execution_count": 17,
      "metadata": {
        "colab": {
          "base_uri": "https://localhost:8080/"
        },
        "id": "Cy6JgsLS-Y-F",
        "outputId": "bd9143f2-9f8f-4043-fc8b-6b8dbbfc0c2b"
      },
      "outputs": [
        {
          "name": "stdout",
          "output_type": "stream",
          "text": [
            "    N   P   K  temperature   humidity        ph    rainfall label\n",
            "0  90  42  43    20.879744  82.002744  6.502985  202.935536  rice\n",
            "1  85  58  41    21.770462  80.319644  7.038096  226.655537  rice\n",
            "2  60  55  44    23.004459  82.320763  7.840207  263.964248  rice\n",
            "3  74  35  40    26.491096  80.158363  6.980401  242.864034  rice\n",
            "4  78  42  42    20.130175  81.604873  7.628473  262.717340  rice\n"
          ]
        }
      ],
      "source": [
        "# Load dataset\n",
        "df = pd.read_csv('FinalDataset.csv')\n",
        "print(df.head())"
      ]
    },
    {
      "cell_type": "code",
      "execution_count": 18,
      "metadata": {
        "id": "WRmT-yn--Z-H"
      },
      "outputs": [],
      "source": [
        "# Drop rows with missing values\n",
        "df.dropna(inplace=True)"
      ]
    },
    {
      "cell_type": "code",
      "execution_count": 19,
      "metadata": {
        "id": "8GGc2bfn-nBQ"
      },
      "outputs": [],
      "source": [
        "# Separate features (X) and target variable (y)\n",
        "X = df.drop(columns=['label'])\n",
        "y = df['label']"
      ]
    },
    {
      "cell_type": "code",
      "execution_count": 20,
      "metadata": {
        "id": "LQ7FzMx8-z5u"
      },
      "outputs": [],
      "source": [
        "# Split data into training and testing sets\n",
        "X_train, X_test, y_train, y_test = train_test_split(X, y, test_size=0.2, random_state=42)"
      ]
    },
    {
      "cell_type": "code",
      "execution_count": 21,
      "metadata": {
        "id": "eUzg8UXr-2D9"
      },
      "outputs": [],
      "source": [
        "# Impute missing values in features using mean\n",
        "imputer = SimpleImputer(strategy='mean')\n",
        "X_train_imputed = imputer.fit_transform(X_train)\n",
        "X_test_imputed = imputer.transform(X_test)"
      ]
    },
    {
      "cell_type": "code",
      "execution_count": 22,
      "metadata": {
        "id": "9hshXQCi-2Aj"
      },
      "outputs": [],
      "source": [
        "# Define hyperparameters for tuning\n",
        "param_grid = {\n",
        "    'n_estimators': [100, 200, 300],  # Number of trees in the forest\n",
        "    'max_depth': [None, 10, 20, 30],  # Maximum depth of the tree\n",
        "    'min_samples_split': [2, 5, 10],  # Minimum number of samples required to split a node\n",
        "    'min_samples_leaf': [1, 2, 4]  # Minimum number of samples required at each leaf node\n",
        "}"
      ]
    },
    {
      "cell_type": "code",
      "execution_count": 23,
      "metadata": {
        "colab": {
          "base_uri": "https://localhost:8080/",
          "height": 291
        },
        "id": "lJg1LSyw-195",
        "outputId": "a6132b8d-4a72-4527-cfbf-9db79878bda9"
      },
      "outputs": [
        {
          "name": "stdout",
          "output_type": "stream",
          "text": [
            "Fitting 5 folds for each of 108 candidates, totalling 540 fits\n"
          ]
        },
        {
          "data": {
            "text/html": [
              "<style>#sk-container-id-2 {color: black;}#sk-container-id-2 pre{padding: 0;}#sk-container-id-2 div.sk-toggleable {background-color: white;}#sk-container-id-2 label.sk-toggleable__label {cursor: pointer;display: block;width: 100%;margin-bottom: 0;padding: 0.3em;box-sizing: border-box;text-align: center;}#sk-container-id-2 label.sk-toggleable__label-arrow:before {content: \"▸\";float: left;margin-right: 0.25em;color: #696969;}#sk-container-id-2 label.sk-toggleable__label-arrow:hover:before {color: black;}#sk-container-id-2 div.sk-estimator:hover label.sk-toggleable__label-arrow:before {color: black;}#sk-container-id-2 div.sk-toggleable__content {max-height: 0;max-width: 0;overflow: hidden;text-align: left;background-color: #f0f8ff;}#sk-container-id-2 div.sk-toggleable__content pre {margin: 0.2em;color: black;border-radius: 0.25em;background-color: #f0f8ff;}#sk-container-id-2 input.sk-toggleable__control:checked~div.sk-toggleable__content {max-height: 200px;max-width: 100%;overflow: auto;}#sk-container-id-2 input.sk-toggleable__control:checked~label.sk-toggleable__label-arrow:before {content: \"▾\";}#sk-container-id-2 div.sk-estimator input.sk-toggleable__control:checked~label.sk-toggleable__label {background-color: #d4ebff;}#sk-container-id-2 div.sk-label input.sk-toggleable__control:checked~label.sk-toggleable__label {background-color: #d4ebff;}#sk-container-id-2 input.sk-hidden--visually {border: 0;clip: rect(1px 1px 1px 1px);clip: rect(1px, 1px, 1px, 1px);height: 1px;margin: -1px;overflow: hidden;padding: 0;position: absolute;width: 1px;}#sk-container-id-2 div.sk-estimator {font-family: monospace;background-color: #f0f8ff;border: 1px dotted black;border-radius: 0.25em;box-sizing: border-box;margin-bottom: 0.5em;}#sk-container-id-2 div.sk-estimator:hover {background-color: #d4ebff;}#sk-container-id-2 div.sk-parallel-item::after {content: \"\";width: 100%;border-bottom: 1px solid gray;flex-grow: 1;}#sk-container-id-2 div.sk-label:hover label.sk-toggleable__label {background-color: #d4ebff;}#sk-container-id-2 div.sk-serial::before {content: \"\";position: absolute;border-left: 1px solid gray;box-sizing: border-box;top: 0;bottom: 0;left: 50%;z-index: 0;}#sk-container-id-2 div.sk-serial {display: flex;flex-direction: column;align-items: center;background-color: white;padding-right: 0.2em;padding-left: 0.2em;position: relative;}#sk-container-id-2 div.sk-item {position: relative;z-index: 1;}#sk-container-id-2 div.sk-parallel {display: flex;align-items: stretch;justify-content: center;background-color: white;position: relative;}#sk-container-id-2 div.sk-item::before, #sk-container-id-2 div.sk-parallel-item::before {content: \"\";position: absolute;border-left: 1px solid gray;box-sizing: border-box;top: 0;bottom: 0;left: 50%;z-index: -1;}#sk-container-id-2 div.sk-parallel-item {display: flex;flex-direction: column;z-index: 1;position: relative;background-color: white;}#sk-container-id-2 div.sk-parallel-item:first-child::after {align-self: flex-end;width: 50%;}#sk-container-id-2 div.sk-parallel-item:last-child::after {align-self: flex-start;width: 50%;}#sk-container-id-2 div.sk-parallel-item:only-child::after {width: 0;}#sk-container-id-2 div.sk-dashed-wrapped {border: 1px dashed gray;margin: 0 0.4em 0.5em 0.4em;box-sizing: border-box;padding-bottom: 0.4em;background-color: white;}#sk-container-id-2 div.sk-label label {font-family: monospace;font-weight: bold;display: inline-block;line-height: 1.2em;}#sk-container-id-2 div.sk-label-container {text-align: center;}#sk-container-id-2 div.sk-container {/* jupyter's `normalize.less` sets `[hidden] { display: none; }` but bootstrap.min.css set `[hidden] { display: none !important; }` so we also need the `!important` here to be able to override the default hidden behavior on the sphinx rendered scikit-learn.org. See: https://github.com/scikit-learn/scikit-learn/issues/21755 */display: inline-block !important;position: relative;}#sk-container-id-2 div.sk-text-repr-fallback {display: none;}</style><div id=\"sk-container-id-2\" class=\"sk-top-container\"><div class=\"sk-text-repr-fallback\"><pre>GridSearchCV(cv=5, estimator=RandomForestClassifier(random_state=42), n_jobs=-1,\n",
              "             param_grid={&#x27;max_depth&#x27;: [None, 10, 20, 30],\n",
              "                         &#x27;min_samples_leaf&#x27;: [1, 2, 4],\n",
              "                         &#x27;min_samples_split&#x27;: [2, 5, 10],\n",
              "                         &#x27;n_estimators&#x27;: [100, 200, 300]},\n",
              "             verbose=2)</pre><b>In a Jupyter environment, please rerun this cell to show the HTML representation or trust the notebook. <br />On GitHub, the HTML representation is unable to render, please try loading this page with nbviewer.org.</b></div><div class=\"sk-container\" hidden><div class=\"sk-item sk-dashed-wrapped\"><div class=\"sk-label-container\"><div class=\"sk-label sk-toggleable\"><input class=\"sk-toggleable__control sk-hidden--visually\" id=\"sk-estimator-id-4\" type=\"checkbox\" ><label for=\"sk-estimator-id-4\" class=\"sk-toggleable__label sk-toggleable__label-arrow\">GridSearchCV</label><div class=\"sk-toggleable__content\"><pre>GridSearchCV(cv=5, estimator=RandomForestClassifier(random_state=42), n_jobs=-1,\n",
              "             param_grid={&#x27;max_depth&#x27;: [None, 10, 20, 30],\n",
              "                         &#x27;min_samples_leaf&#x27;: [1, 2, 4],\n",
              "                         &#x27;min_samples_split&#x27;: [2, 5, 10],\n",
              "                         &#x27;n_estimators&#x27;: [100, 200, 300]},\n",
              "             verbose=2)</pre></div></div></div><div class=\"sk-parallel\"><div class=\"sk-parallel-item\"><div class=\"sk-item\"><div class=\"sk-label-container\"><div class=\"sk-label sk-toggleable\"><input class=\"sk-toggleable__control sk-hidden--visually\" id=\"sk-estimator-id-5\" type=\"checkbox\" ><label for=\"sk-estimator-id-5\" class=\"sk-toggleable__label sk-toggleable__label-arrow\">estimator: RandomForestClassifier</label><div class=\"sk-toggleable__content\"><pre>RandomForestClassifier(random_state=42)</pre></div></div></div><div class=\"sk-serial\"><div class=\"sk-item\"><div class=\"sk-estimator sk-toggleable\"><input class=\"sk-toggleable__control sk-hidden--visually\" id=\"sk-estimator-id-6\" type=\"checkbox\" ><label for=\"sk-estimator-id-6\" class=\"sk-toggleable__label sk-toggleable__label-arrow\">RandomForestClassifier</label><div class=\"sk-toggleable__content\"><pre>RandomForestClassifier(random_state=42)</pre></div></div></div></div></div></div></div></div></div></div>"
            ],
            "text/plain": [
              "GridSearchCV(cv=5, estimator=RandomForestClassifier(random_state=42), n_jobs=-1,\n",
              "             param_grid={'max_depth': [None, 10, 20, 30],\n",
              "                         'min_samples_leaf': [1, 2, 4],\n",
              "                         'min_samples_split': [2, 5, 10],\n",
              "                         'n_estimators': [100, 200, 300]},\n",
              "             verbose=2)"
            ]
          },
          "execution_count": 23,
          "metadata": {},
          "output_type": "execute_result"
        }
      ],
      "source": [
        "# Train RandomForestClassifier with Grid Search\n",
        "clf = RandomForestClassifier(random_state=42)\n",
        "grid_search = GridSearchCV(estimator=clf, param_grid=param_grid, cv=5, n_jobs=-1, verbose=2)\n",
        "grid_search.fit(X_train_imputed, y_train)"
      ]
    },
    {
      "cell_type": "code",
      "execution_count": 24,
      "metadata": {
        "colab": {
          "base_uri": "https://localhost:8080/"
        },
        "id": "Y7Po2wu_-17M",
        "outputId": "d404fb08-b3a0-47a4-f0af-bfa4c0ff178b"
      },
      "outputs": [
        {
          "name": "stdout",
          "output_type": "stream",
          "text": [
            "Best Parameters: {'max_depth': None, 'min_samples_leaf': 1, 'min_samples_split': 2, 'n_estimators': 100}\n"
          ]
        }
      ],
      "source": [
        "# Best parameters found by Grid Search\n",
        "print(\"Best Parameters:\", grid_search.best_params_)"
      ]
    },
    {
      "cell_type": "code",
      "execution_count": 25,
      "metadata": {
        "id": "v2w7fYau-138"
      },
      "outputs": [],
      "source": [
        "# Make predictions on test set\n",
        "y_pred = grid_search.predict(X_test_imputed)"
      ]
    },
    {
      "cell_type": "code",
      "execution_count": 26,
      "metadata": {
        "id": "LfyAucs2-11b"
      },
      "outputs": [
        {
          "ename": "NameError",
          "evalue": "name 'nutrient_values' is not defined",
          "output_type": "error",
          "traceback": [
            "\u001b[1;31m---------------------------------------------------------------------------\u001b[0m",
            "\u001b[1;31mNameError\u001b[0m                                 Traceback (most recent call last)",
            "Cell \u001b[1;32mIn[26], line 1\u001b[0m\n\u001b[1;32m----> 1\u001b[0m nitrogen \u001b[38;5;241m=\u001b[39m \u001b[43mnutrient_values\u001b[49m[\u001b[38;5;124m'\u001b[39m\u001b[38;5;124mN\u001b[39m\u001b[38;5;124m'\u001b[39m]\n\u001b[0;32m      2\u001b[0m phosphorus \u001b[38;5;241m=\u001b[39m nutrient_values[\u001b[38;5;124m'\u001b[39m\u001b[38;5;124mP\u001b[39m\u001b[38;5;124m'\u001b[39m]\n\u001b[0;32m      3\u001b[0m potassium \u001b[38;5;241m=\u001b[39m nutrient_values[\u001b[38;5;124m'\u001b[39m\u001b[38;5;124mK\u001b[39m\u001b[38;5;124m'\u001b[39m]\n",
            "\u001b[1;31mNameError\u001b[0m: name 'nutrient_values' is not defined"
          ]
        }
      ],
      "source": [
        "nitrogen = nutrient_values['N']\n",
        "phosphorus = nutrient_values['P']\n",
        "potassium = nutrient_values['K']\n"
      ]
    },
    {
      "cell_type": "code",
      "execution_count": 27,
      "metadata": {},
      "outputs": [
        {
          "ename": "NameError",
          "evalue": "name 'nitrogen' is not defined",
          "output_type": "error",
          "traceback": [
            "\u001b[1;31m---------------------------------------------------------------------------\u001b[0m",
            "\u001b[1;31mNameError\u001b[0m                                 Traceback (most recent call last)",
            "Cell \u001b[1;32mIn[27], line 13\u001b[0m\n\u001b[0;32m      8\u001b[0m rainfall_amount \u001b[38;5;241m=\u001b[39m \u001b[38;5;241m55\u001b[39m\n\u001b[0;32m      9\u001b[0m ph_level\u001b[38;5;241m=\u001b[39m\u001b[38;5;241m7.1\u001b[39m\n\u001b[0;32m     12\u001b[0m input_data \u001b[38;5;241m=\u001b[39m pd\u001b[38;5;241m.\u001b[39mDataFrame({\n\u001b[1;32m---> 13\u001b[0m     \u001b[38;5;124m'\u001b[39m\u001b[38;5;124mN\u001b[39m\u001b[38;5;124m'\u001b[39m: [\u001b[43mnitrogen\u001b[49m],\n\u001b[0;32m     14\u001b[0m     \u001b[38;5;124m'\u001b[39m\u001b[38;5;124mP\u001b[39m\u001b[38;5;124m'\u001b[39m: [phosphorus],\n\u001b[0;32m     15\u001b[0m     \u001b[38;5;124m'\u001b[39m\u001b[38;5;124mK\u001b[39m\u001b[38;5;124m'\u001b[39m: [potassium],\n\u001b[0;32m     16\u001b[0m     \u001b[38;5;124m'\u001b[39m\u001b[38;5;124mtemperature\u001b[39m\u001b[38;5;124m'\u001b[39m: [temperature],\n\u001b[0;32m     17\u001b[0m     \u001b[38;5;124m'\u001b[39m\u001b[38;5;124mhumidity\u001b[39m\u001b[38;5;124m'\u001b[39m: [humidity],\n\u001b[0;32m     18\u001b[0m     \u001b[38;5;124m'\u001b[39m\u001b[38;5;124mph\u001b[39m\u001b[38;5;124m'\u001b[39m: [ph_level],\n\u001b[0;32m     19\u001b[0m     \u001b[38;5;124m'\u001b[39m\u001b[38;5;124mrainfall\u001b[39m\u001b[38;5;124m'\u001b[39m: [rainfall_amount]\n\u001b[0;32m     20\u001b[0m })\n\u001b[0;32m     22\u001b[0m \u001b[38;5;66;03m# Impute missing values in input data using mean\u001b[39;00m\n\u001b[0;32m     23\u001b[0m input_data_imputed \u001b[38;5;241m=\u001b[39m imputer\u001b[38;5;241m.\u001b[39mtransform(input_data)\n",
            "\u001b[1;31mNameError\u001b[0m: name 'nitrogen' is not defined"
          ]
        }
      ],
      "source": [
        "# Take input from the user\n",
        "temperature = 12\n",
        "\n",
        "N=6;\n",
        "P=233;\n",
        "K=12;\n",
        "humidity = 33\n",
        "rainfall_amount = 55\n",
        "ph_level=7.1\n",
        "\n",
        "\n",
        "input_data = pd.DataFrame({\n",
        "    'N': [nitrogen],\n",
        "    'P': [phosphorus],\n",
        "    'K': [potassium],\n",
        "    'temperature': [temperature],\n",
        "    'humidity': [humidity],\n",
        "    'ph': [ph_level],\n",
        "    'rainfall': [rainfall_amount]\n",
        "})\n",
        "\n",
        "# Impute missing values in input data using mean\n",
        "input_data_imputed = imputer.transform(input_data)\n",
        "\n",
        "# Make prediction\n",
        "recommended_crop = grid_search.predict(input_data_imputed)[0]\n",
        "\n",
        "# Print recommendation\n",
        "print(\"Recommended Crop:\", recommended_crop)\n"
      ]
    },
    {
      "cell_type": "code",
      "execution_count": 28,
      "metadata": {
        "colab": {
          "base_uri": "https://localhost:8080/"
        },
        "id": "W3ZdU_1g-837",
        "outputId": "77fb22d6-dec4-4ef5-ce7a-e80cc2be896b"
      },
      "outputs": [
        {
          "ename": "NameError",
          "evalue": "name 'nitrogen' is not defined",
          "output_type": "error",
          "traceback": [
            "\u001b[1;31m---------------------------------------------------------------------------\u001b[0m",
            "\u001b[1;31mNameError\u001b[0m                                 Traceback (most recent call last)",
            "Cell \u001b[1;32mIn[28], line 41\u001b[0m\n\u001b[0;32m     37\u001b[0m     ph_level \u001b[38;5;241m=\u001b[39m \u001b[38;5;241m0\u001b[39m  \u001b[38;5;66;03m# Default value if pH level is not known\u001b[39;00m\n\u001b[0;32m     39\u001b[0m \u001b[38;5;66;03m# Create input data for prediction with correct feature order\u001b[39;00m\n\u001b[0;32m     40\u001b[0m input_data \u001b[38;5;241m=\u001b[39m pd\u001b[38;5;241m.\u001b[39mDataFrame({\n\u001b[1;32m---> 41\u001b[0m     \u001b[38;5;124m'\u001b[39m\u001b[38;5;124mN\u001b[39m\u001b[38;5;124m'\u001b[39m: [\u001b[43mnitrogen\u001b[49m],\n\u001b[0;32m     42\u001b[0m     \u001b[38;5;124m'\u001b[39m\u001b[38;5;124mP\u001b[39m\u001b[38;5;124m'\u001b[39m: [phosphorus],\n\u001b[0;32m     43\u001b[0m     \u001b[38;5;124m'\u001b[39m\u001b[38;5;124mK\u001b[39m\u001b[38;5;124m'\u001b[39m: [potassium],\n\u001b[0;32m     44\u001b[0m     \u001b[38;5;124m'\u001b[39m\u001b[38;5;124mtemperature\u001b[39m\u001b[38;5;124m'\u001b[39m: [temperature],\n\u001b[0;32m     45\u001b[0m     \u001b[38;5;124m'\u001b[39m\u001b[38;5;124mhumidity\u001b[39m\u001b[38;5;124m'\u001b[39m: [humidity],\n\u001b[0;32m     46\u001b[0m     \u001b[38;5;124m'\u001b[39m\u001b[38;5;124mph\u001b[39m\u001b[38;5;124m'\u001b[39m: [ph_level],\n\u001b[0;32m     47\u001b[0m     \u001b[38;5;124m'\u001b[39m\u001b[38;5;124mrainfall\u001b[39m\u001b[38;5;124m'\u001b[39m: [rainfall_amount]\n\u001b[0;32m     48\u001b[0m })\n\u001b[0;32m     50\u001b[0m \u001b[38;5;66;03m# Impute missing values in input data using mean\u001b[39;00m\n\u001b[0;32m     51\u001b[0m input_data_imputed \u001b[38;5;241m=\u001b[39m imputer\u001b[38;5;241m.\u001b[39mtransform(input_data)\n",
            "\u001b[1;31mNameError\u001b[0m: name 'nitrogen' is not defined"
          ]
        }
      ],
      "source": [
        "# Take input from the user\n",
        "temperature = float(input(\"Enter the current temperature of the area (in Celsius): \"))\n",
        "\n",
        "# Ask which nutrients are present\n",
        "present_nutrients = []\n",
        "while True:\n",
        "    nutrient = input(\"Enter the nutrient present in the soil (N/P/K) or type 'done' if all are entered: \").upper()\n",
        "    if nutrient == 'DONE':\n",
        "        break\n",
        "    present_nutrients.append(nutrient)\n",
        "\n",
        "# Ask for the value of each present nutrient\n",
        "nutrient_values = {}\n",
        "for nutrient in present_nutrients:\n",
        "    value = float(input(f\"Enter the amount of {nutrient} present in the soil: \"))\n",
        "    nutrient_values[nutrient] = value\n",
        "\n",
        "# Ask about humidity\n",
        "humidity_present = input(\"Is humidity present in the area? (yes/no): \").lower()\n",
        "if humidity_present == 'yes':\n",
        "    humidity = float(input(\"Enter the humidity level: \"))\n",
        "else:\n",
        "    humidity = 0  # Default value if humidity is not present\n",
        "\n",
        "# Ask about rainfall\n",
        "rainfall_present = input(\"Is rainfall present in the area? (yes/no): \").lower()\n",
        "if rainfall_present == 'yes':\n",
        "    rainfall_amount = float(input(\"Enter the amount of rainfall (in mm): \"))\n",
        "else:\n",
        "    rainfall_amount = 0  # Default value if rainfall is not present\n",
        "\n",
        "# Ask about pH level\n",
        "ph_present = input(\"Is the pH level of the soil known? (yes/no): \").lower()\n",
        "if ph_present == 'yes':\n",
        "    ph_level = float(input(\"Enter the pH level of the soil: \"))\n",
        "else:\n",
        "    ph_level = 0  # Default value if pH level is not known\n",
        "\n",
        "# Create input data for prediction with correct feature order\n",
        "input_data = pd.DataFrame({\n",
        "    'N': [nitrogen],\n",
        "    'P': [phosphorus],\n",
        "    'K': [potassium],\n",
        "    'temperature': [temperature],\n",
        "    'humidity': [humidity],\n",
        "    'ph': [ph_level],\n",
        "    'rainfall': [rainfall_amount]\n",
        "})\n",
        "\n",
        "# Impute missing values in input data using mean\n",
        "input_data_imputed = imputer.transform(input_data)\n",
        "\n",
        "# Make prediction\n",
        "recommended_crop = grid_search.predict(input_data_imputed)[0]\n",
        "\n",
        "# Print recommendation\n",
        "print(\"Recommended Crop:\", recommended_crop)\n"
      ]
    },
    {
      "cell_type": "code",
      "execution_count": null,
      "metadata": {
        "id": "xklH5kocFZ_4"
      },
      "outputs": [],
      "source": []
    },
    {
      "cell_type": "code",
      "execution_count": null,
      "metadata": {
        "id": "kh3W8asL-80Z"
      },
      "outputs": [],
      "source": [
        "from sklearn.metrics import mean_squared_error"
      ]
    },
    {
      "cell_type": "code",
      "execution_count": null,
      "metadata": {
        "colab": {
          "base_uri": "https://localhost:8080/"
        },
        "id": "9TfYfR2R-8v8",
        "outputId": "521ac43e-9e0d-47c8-aed4-fb2f8c586001"
      },
      "outputs": [
        {
          "name": "stdout",
          "output_type": "stream",
          "text": [
            "Accuracy Rate: 82.22759226713532 %\n"
          ]
        }
      ],
      "source": [
        "# Convert crop names to numerical labels\n",
        "crop_label_mapping = {crop_name: i for i, crop_name in enumerate(df['label'].unique())}\n",
        "y_test_numeric = y_test.map(crop_label_mapping)\n",
        "y_pred_numeric = pd.Series([crop_label_mapping[crop_name] for crop_name in y_pred])\n",
        "\n",
        "mse = mean_squared_error(y_test_numeric, y_pred_numeric)\n",
        "\n",
        "accuracy_rate = 100 * (1 - mse / y_test_numeric.mean())\n",
        "print(\"Accuracy Rate:\", accuracy_rate, \"%\")\n"
      ]
    },
    {
      "cell_type": "code",
      "execution_count": null,
      "metadata": {},
      "outputs": [],
      "source": []
    },
    {
      "cell_type": "code",
      "execution_count": null,
      "metadata": {},
      "outputs": [],
      "source": [
        "import pickle\n",
        "pickle.dump(recommended_crop,open('model.pkl','wb'))\n",
        "# model= pickle.load(open('model.pkl','rb'))\n",
        "\n",
        "\n",
        "# pickle.dump(ms,open('minmaxscaler.pkl','wb'))\n",
        "# pickle.dump(sc,open('standscaler.pkl','wb'))"
      ]
    },
    {
      "cell_type": "code",
      "execution_count": null,
      "metadata": {
        "id": "ztC6TMLa-8re"
      },
      "outputs": [],
      "source": [
        "import pandas as pd\n",
        "from sklearn.model_selection import train_test_split, GridSearchCV\n",
        "from sklearn.ensemble import RandomForestClassifier\n",
        "from sklearn.metrics import mean_squared_error\n",
        "from sklearn.impute import SimpleImputer\n",
        "import pickle\n",
        "\n",
        "# Load dataset\n",
        "df = pd.read_csv('FinalDataset.csv')\n",
        "\n",
        "# Drop rows with missing values\n",
        "df.dropna(inplace=True)\n",
        "\n",
        "# Separate features (X) and target variable (y)\n",
        "X = df.drop(columns=['label'])\n",
        "y = df['label']\n",
        "\n",
        "# Split data into training and testing sets\n",
        "X_train, X_test, y_train, y_test = train_test_split(X, y, test_size=0.2, random_state=42)\n",
        "\n",
        "# Impute missing values in features using mean\n",
        "imputer = SimpleImputer(strategy='mean')\n",
        "X_train_imputed = imputer.fit_transform(X_train)\n",
        "X_test_imputed = imputer.transform(X_test)\n",
        "\n",
        "# Define hyperparameters for tuning\n",
        "param_grid = {\n",
        "    'n_estimators': [100, 200, 300],  # Number of trees in the forest\n",
        "    'max_depth': [None, 10, 20, 30],  # Maximum depth of the tree\n",
        "    'min_samples_split': [2, 5, 10],  # Minimum number of samples required to split a node\n",
        "    'min_samples_leaf': [1, 2, 4]  # Minimum number of samples required at each leaf node\n",
        "}\n",
        "\n",
        "# Train RandomForestClassifier with Grid Search\n",
        "clf = RandomForestClassifier(random_state=42)\n",
        "grid_search = GridSearchCV(estimator=clf, param_grid=param_grid, cv=5, n_jobs=-1, verbose=2)\n",
        "grid_search.fit(X_train_imputed, y_train)\n",
        "\n",
        "# Best parameters found by Grid Search\n",
        "print(\"Best Parameters:\", grid_search.best_params_)\n",
        "\n",
        "# Save the trained model to a file using Pickle\n",
        "with open('crop_recommendation_model.pkl', 'wb') as file:\n",
        "    pickle.dump(grid_search, file)\n",
        "\n",
        "# Calculate accuracy rate\n",
        "y_pred = grid_search.predict(X_test_imputed)\n",
        "mse = mean_squared_error(y_test, y_pred)\n",
        "accuracy_rate = 100 * (1 - mse / y_test.mean())\n",
        "print(\"Accuracy Rate:\", accuracy_rate, \"%\")\n"
      ]
    },
    {
      "cell_type": "code",
      "execution_count": null,
      "metadata": {
        "colab": {
          "base_uri": "https://localhost:8080/",
          "height": 1000
        },
        "id": "K3ZGU81uIBOd",
        "outputId": "02288aa1-b4fd-4f4b-d0a2-9c6009e51a20"
      },
      "outputs": [],
      "source": []
    },
    {
      "cell_type": "code",
      "execution_count": null,
      "metadata": {
        "colab": {
          "base_uri": "https://localhost:8080/",
          "height": 653
        },
        "id": "tXrxjU-kKEsx",
        "outputId": "4ebeda72-3f8f-4350-f070-ada36f6270fa"
      },
      "outputs": [
        {
          "ename": "ModuleNotFoundError",
          "evalue": "No module named 'seaborn'",
          "output_type": "error",
          "traceback": [
            "\u001b[1;31m---------------------------------------------------------------------------\u001b[0m",
            "\u001b[1;31mModuleNotFoundError\u001b[0m                       Traceback (most recent call last)",
            "Cell \u001b[1;32mIn[23], line 6\u001b[0m\n\u001b[0;32m      4\u001b[0m \u001b[38;5;28;01mfrom\u001b[39;00m \u001b[38;5;21;01msklearn\u001b[39;00m\u001b[38;5;21;01m.\u001b[39;00m\u001b[38;5;21;01mmetrics\u001b[39;00m \u001b[38;5;28;01mimport\u001b[39;00m accuracy_score, confusion_matrix, classification_report\n\u001b[0;32m      5\u001b[0m \u001b[38;5;28;01mfrom\u001b[39;00m \u001b[38;5;21;01msklearn\u001b[39;00m\u001b[38;5;21;01m.\u001b[39;00m\u001b[38;5;21;01mimpute\u001b[39;00m \u001b[38;5;28;01mimport\u001b[39;00m SimpleImputer\n\u001b[1;32m----> 6\u001b[0m \u001b[38;5;28;01mimport\u001b[39;00m \u001b[38;5;21;01mseaborn\u001b[39;00m \u001b[38;5;28;01mas\u001b[39;00m \u001b[38;5;21;01msns\u001b[39;00m\n\u001b[0;32m      7\u001b[0m \u001b[38;5;28;01mimport\u001b[39;00m \u001b[38;5;21;01mmatplotlib\u001b[39;00m\u001b[38;5;21;01m.\u001b[39;00m\u001b[38;5;21;01mpyplot\u001b[39;00m \u001b[38;5;28;01mas\u001b[39;00m \u001b[38;5;21;01mplt\u001b[39;00m\n\u001b[0;32m      9\u001b[0m df \u001b[38;5;241m=\u001b[39m pd\u001b[38;5;241m.\u001b[39mread_csv(\u001b[38;5;124m'\u001b[39m\u001b[38;5;124mFinalDataset.csv\u001b[39m\u001b[38;5;124m'\u001b[39m)\n",
            "\u001b[1;31mModuleNotFoundError\u001b[0m: No module named 'seaborn'"
          ]
        }
      ],
      "source": [
        "import pandas as pd\n",
        "from sklearn.model_selection import train_test_split, GridSearchCV\n",
        "from sklearn.ensemble import RandomForestClassifier\n",
        "from sklearn.metrics import accuracy_score, confusion_matrix, classification_report\n",
        "from sklearn.impute import SimpleImputer\n",
        "import seaborn as sns\n",
        "import matplotlib.pyplot as plt\n",
        "\n",
        "df = pd.read_csv('FinalDataset.csv')\n",
        "\n",
        "df.dropna(inplace=True)\n",
        "\n",
        "X = df.drop(columns=['label'])\n",
        "y = df['label']\n",
        "X_train, X_test, y_train, y_test = train_test_split(X, y, test_size=0.2, random_state=42)\n",
        "\n",
        "imputer = SimpleImputer(strategy='mean')\n",
        "X_train_imputed = imputer.fit_transform(X_train)\n",
        "X_test_imputed = imputer.transform(X_test)\n",
        "\n",
        "param_grid = {\n",
        "    'n_estimators': [100, 200, 300],  # Number of trees in the forest\n",
        "    'max_depth': [None, 10, 20, 30],    # Maximum depth of the tree\n",
        "    'min_samples_split': [2, 5, 10],    # Minimum number of samples required to split a node\n",
        "    'min_samples_leaf': [1, 2, 4]       # Minimum number of samples required at each leaf node\n",
        "}\n",
        "\n",
        "clf = RandomForestClassifier(random_state=42)\n",
        "grid_search = GridSearchCV(estimator=clf, param_grid=param_grid, cv=5, n_jobs=-1, verbose=2)\n",
        "grid_search.fit(X_train_imputed, y_train)\n",
        "\n",
        "print(\"Best Parameters:\", grid_search.best_params_)\n",
        "\n",
        "y_pred = grid_search.predict(X_test_imputed)\n",
        "\n",
        "accuracy_rate = accuracy_score(y_test, y_pred) * 100\n",
        "print(\"Overall Accuracy Rate:\", accuracy_rate, \"%\")\n",
        "\n",
        "correct_recommendations = sum(y_test == y_pred)\n",
        "total_recommendations = len(y_test)\n",
        "recommendation_accuracy_rate = (correct_recommendations / total_recommendations) * 100\n",
        "print(\"Recommendation Accuracy Rate:\", recommendation_accuracy_rate, \"%\")\n",
        "\n",
        "plt.figure(figsize=(8, 6))\n",
        "sns.countplot(y_test == y_pred)\n",
        "plt.title('Recommendation Accuracy')\n",
        "plt.xlabel('Correct Recommendation')\n",
        "plt.ylabel('Count')\n",
        "plt.show()\n"
      ]
    },
    {
      "cell_type": "code",
      "execution_count": null,
      "metadata": {
        "colab": {
          "base_uri": "https://localhost:8080/",
          "height": 580
        },
        "id": "dHCG8tfWMiDW",
        "outputId": "14d4a5c7-258c-4524-e863-af92ab457987"
      },
      "outputs": [
        {
          "ename": "ModuleNotFoundError",
          "evalue": "No module named 'matplotlib'",
          "output_type": "error",
          "traceback": [
            "\u001b[1;31m---------------------------------------------------------------------------\u001b[0m",
            "\u001b[1;31mModuleNotFoundError\u001b[0m                       Traceback (most recent call last)",
            "Cell \u001b[1;32mIn[24], line 6\u001b[0m\n\u001b[0;32m      4\u001b[0m \u001b[38;5;28;01mfrom\u001b[39;00m \u001b[38;5;21;01msklearn\u001b[39;00m\u001b[38;5;21;01m.\u001b[39;00m\u001b[38;5;21;01mmetrics\u001b[39;00m \u001b[38;5;28;01mimport\u001b[39;00m accuracy_score\n\u001b[0;32m      5\u001b[0m \u001b[38;5;28;01mfrom\u001b[39;00m \u001b[38;5;21;01msklearn\u001b[39;00m\u001b[38;5;21;01m.\u001b[39;00m\u001b[38;5;21;01mimpute\u001b[39;00m \u001b[38;5;28;01mimport\u001b[39;00m SimpleImputer\n\u001b[1;32m----> 6\u001b[0m \u001b[38;5;28;01mimport\u001b[39;00m \u001b[38;5;21;01mmatplotlib\u001b[39;00m\u001b[38;5;21;01m.\u001b[39;00m\u001b[38;5;21;01mpyplot\u001b[39;00m \u001b[38;5;28;01mas\u001b[39;00m \u001b[38;5;21;01mplt\u001b[39;00m\n\u001b[0;32m      8\u001b[0m df \u001b[38;5;241m=\u001b[39m pd\u001b[38;5;241m.\u001b[39mread_csv(\u001b[38;5;124m'\u001b[39m\u001b[38;5;124mFinalDataset.csv\u001b[39m\u001b[38;5;124m'\u001b[39m)\n\u001b[0;32m     10\u001b[0m df\u001b[38;5;241m.\u001b[39mdropna(inplace\u001b[38;5;241m=\u001b[39m\u001b[38;5;28;01mTrue\u001b[39;00m)\n",
            "\u001b[1;31mModuleNotFoundError\u001b[0m: No module named 'matplotlib'"
          ]
        }
      ],
      "source": [
        "import pandas as pd\n",
        "from sklearn.model_selection import train_test_split, GridSearchCV\n",
        "from sklearn.ensemble import RandomForestClassifier\n",
        "from sklearn.metrics import accuracy_score\n",
        "from sklearn.impute import SimpleImputer\n",
        "import matplotlib.pyplot as plt\n",
        "\n",
        "df = pd.read_csv('FinalDataset.csv')\n",
        "\n",
        "df.dropna(inplace=True)\n",
        "\n",
        "X = df.drop(columns=['label'])\n",
        "y = df['label']\n",
        "\n",
        "X_train, X_test, y_train, y_test = train_test_split(X, y, test_size=0.2, random_state=42)\n",
        "\n",
        "imputer = SimpleImputer(strategy='mean')\n",
        "X_train_imputed = imputer.fit_transform(X_train)\n",
        "X_test_imputed = imputer.transform(X_test)\n",
        "\n",
        "clf = RandomForestClassifier(random_state=42)\n",
        "clf.fit(X_train_imputed, y_train)\n",
        "\n",
        "y_pred = clf.predict(X_test_imputed)\n",
        "\n",
        "accuracy_rate = accuracy_score(y_test, y_pred) * 100\n",
        "print(\"Overall Accuracy Rate:\", accuracy_rate, \"%\")\n",
        "\n",
        "correct_recommendations = sum(y_test == y_pred)\n",
        "total_recommendations = len(y_test)\n",
        "recommendation_accuracy_rate = (correct_recommendations / total_recommendations) * 100\n",
        "print(\"Recommendation Accuracy Rate:\", recommendation_accuracy_rate, \"%\")\n",
        "\n",
        "fig, ax = plt.subplots(figsize=(8, 6))\n",
        "accuracy_data = {'Correct Recommendations': correct_recommendations, 'Incorrect Recommendations': total_recommendations - correct_recommendations}\n",
        "ax.bar(accuracy_data.keys(), accuracy_data.values(), color=['green', 'red'])\n",
        "ax.set_ylabel('Count')\n",
        "ax.set_title('Recommendation Accuracy')\n",
        "plt.show()\n"
      ]
    },
    {
      "cell_type": "code",
      "execution_count": null,
      "metadata": {
        "colab": {
          "base_uri": "https://localhost:8080/",
          "height": 778
        },
        "id": "gI7gPLnEMwCt",
        "outputId": "a385c1fe-49cd-433b-81dd-13c4069733a4"
      },
      "outputs": [
        {
          "ename": "ModuleNotFoundError",
          "evalue": "No module named 'matplotlib'",
          "output_type": "error",
          "traceback": [
            "\u001b[1;31m---------------------------------------------------------------------------\u001b[0m",
            "\u001b[1;31mModuleNotFoundError\u001b[0m                       Traceback (most recent call last)",
            "Cell \u001b[1;32mIn[25], line 6\u001b[0m\n\u001b[0;32m      4\u001b[0m \u001b[38;5;28;01mfrom\u001b[39;00m \u001b[38;5;21;01msklearn\u001b[39;00m\u001b[38;5;21;01m.\u001b[39;00m\u001b[38;5;21;01mmetrics\u001b[39;00m \u001b[38;5;28;01mimport\u001b[39;00m accuracy_score, confusion_matrix\n\u001b[0;32m      5\u001b[0m \u001b[38;5;28;01mfrom\u001b[39;00m \u001b[38;5;21;01msklearn\u001b[39;00m\u001b[38;5;21;01m.\u001b[39;00m\u001b[38;5;21;01mimpute\u001b[39;00m \u001b[38;5;28;01mimport\u001b[39;00m SimpleImputer\n\u001b[1;32m----> 6\u001b[0m \u001b[38;5;28;01mimport\u001b[39;00m \u001b[38;5;21;01mmatplotlib\u001b[39;00m\u001b[38;5;21;01m.\u001b[39;00m\u001b[38;5;21;01mpyplot\u001b[39;00m \u001b[38;5;28;01mas\u001b[39;00m \u001b[38;5;21;01mplt\u001b[39;00m\n\u001b[0;32m      7\u001b[0m \u001b[38;5;28;01mimport\u001b[39;00m \u001b[38;5;21;01mseaborn\u001b[39;00m \u001b[38;5;28;01mas\u001b[39;00m \u001b[38;5;21;01msns\u001b[39;00m\n\u001b[0;32m      9\u001b[0m df \u001b[38;5;241m=\u001b[39m pd\u001b[38;5;241m.\u001b[39mread_csv(\u001b[38;5;124m'\u001b[39m\u001b[38;5;124mFinalDataset.csv\u001b[39m\u001b[38;5;124m'\u001b[39m)\n",
            "\u001b[1;31mModuleNotFoundError\u001b[0m: No module named 'matplotlib'"
          ]
        }
      ],
      "source": [
        "import pandas as pd\n",
        "from sklearn.model_selection import train_test_split, GridSearchCV\n",
        "from sklearn.ensemble import RandomForestClassifier\n",
        "from sklearn.metrics import accuracy_score, confusion_matrix\n",
        "from sklearn.impute import SimpleImputer\n",
        "import matplotlib.pyplot as plt\n",
        "import seaborn as sns\n",
        "\n",
        "df = pd.read_csv('FinalDataset.csv')\n",
        "\n",
        "df.dropna(inplace=True)\n",
        "X = df.drop(columns=['label'])\n",
        "y = df['label']\n",
        "\n",
        "X_train, X_test, y_train, y_test = train_test_split(X, y, test_size=0.2, random_state=42)\n",
        "\n",
        "imputer = SimpleImputer(strategy='mean')\n",
        "X_train_imputed = imputer.fit_transform(X_train)\n",
        "X_test_imputed = imputer.transform(X_test)\n",
        "\n",
        "clf = RandomForestClassifier(random_state=42)\n",
        "clf.fit(X_train_imputed, y_train)\n",
        "\n",
        "y_pred = clf.predict(X_test_imputed)\n",
        "\n",
        "accuracy_rate = accuracy_score(y_test, y_pred) * 100\n",
        "print(\"Overall Accuracy Rate:\", accuracy_rate, \"%\")\n",
        "\n",
        "correct_recommendations = sum(y_test == y_pred)\n",
        "total_recommendations = len(y_test)\n",
        "recommendation_accuracy_rate = (correct_recommendations / total_recommendations) * 100\n",
        "print(\"Recommendation Accuracy Rate:\", recommendation_accuracy_rate, \"%\")\n",
        "\n",
        "conf_matrix = confusion_matrix(y_test, y_pred)\n",
        "\n",
        "plt.figure(figsize=(10, 8))\n",
        "sns.heatmap(conf_matrix, annot=True, fmt='d', cmap='Blues', xticklabels=clf.classes_, yticklabels=clf.classes_)\n",
        "plt.title('Confusion Matrix')\n",
        "plt.xlabel('Predicted Label')\n",
        "plt.ylabel('True Label')\n",
        "plt.show()\n"
      ]
    },
    {
      "cell_type": "code",
      "execution_count": null,
      "metadata": {
        "colab": {
          "base_uri": "https://localhost:8080/"
        },
        "id": "T8hL8r_dNkpG",
        "outputId": "9a861b76-63ce-447f-b483-ced1c935a4cd"
      },
      "outputs": [
        {
          "name": "stdout",
          "output_type": "stream",
          "text": [
            "Fitting 5 folds for each of 108 candidates, totalling 540 fits\n",
            "Best Parameters: {'max_depth': None, 'min_samples_leaf': 1, 'min_samples_split': 2, 'n_estimators': 100}\n",
            "Accuracy: 0.9931818181818182\n"
          ]
        }
      ],
      "source": [
        "import pandas as pd\n",
        "from sklearn.model_selection import train_test_split, GridSearchCV\n",
        "from sklearn.ensemble import RandomForestClassifier\n",
        "from sklearn.metrics import accuracy_score\n",
        "from sklearn.impute import SimpleImputer\n",
        "\n",
        "df = pd.read_csv('FinalDataset.csv')\n",
        "\n",
        "df.dropna(inplace=True)\n",
        "\n",
        "X = df.drop(columns=['label'])\n",
        "y = df['label']\n",
        "\n",
        "X_train, X_test, y_train, y_test = train_test_split(X, y, test_size=0.2, random_state=42)\n",
        "\n",
        "imputer = SimpleImputer(strategy='mean')\n",
        "X_train_imputed = imputer.fit_transform(X_train)\n",
        "X_test_imputed = imputer.transform(X_test)\n",
        "\n",
        "param_grid = {\n",
        "    'n_estimators': [100, 200, 300],\n",
        "    'max_depth': [None, 10, 20, 30],\n",
        "    'min_samples_split': [2, 5, 10],\n",
        "    'min_samples_leaf': [1, 2, 4]\n",
        "}\n",
        "\n",
        "clf = RandomForestClassifier(random_state=42)\n",
        "grid_search = GridSearchCV(estimator=clf, param_grid=param_grid, cv=5, n_jobs=-1, verbose=2)\n",
        "grid_search.fit(X_train_imputed, y_train)\n",
        "\n",
        "print(\"Best Parameters:\", grid_search.best_params_)\n",
        "\n",
        "y_pred = grid_search.predict(X_test_imputed)\n",
        "\n",
        "accuracy = accuracy_score(y_test, y_pred)\n",
        "print(\"Accuracy:\", accuracy)\n"
      ]
    },
    {
      "cell_type": "markdown",
      "metadata": {
        "id": "21-DznhNXfZe"
      },
      "source": [
        "<!-- csccccccccccccccccccccccccccc -->"
      ]
    },
    {
      "cell_type": "code",
      "execution_count": null,
      "metadata": {
        "colab": {
          "base_uri": "https://localhost:8080/",
          "height": 576
        },
        "id": "RxP5ONXqaXIs",
        "outputId": "fce72160-ae47-4528-ded8-d0e15655a654"
      },
      "outputs": [],
      "source": [
        "import matplotlib.pyplot as plt\n",
        "\n",
        "# Example data\n",
        "nutrients_required = {'Nitrogen': 100, 'Phosphorus': 50, 'Potassium': 30}  # Required nutrients for wheat\n",
        "nutrient_levels = {'Nitrogen': 80, 'Phosphorus': 40, 'Potassium': 20}  # Current nutrient levels in the soil\n",
        "cost_per_unit = {'Nitrogen': 2, 'Phosphorus': 3, 'Potassium': 1}  # Cost per unit of each nutrient\n",
        "\n",
        "# Calculate the shortfall in each nutrient\n",
        "shortfall = {nutrient: max(0, nutrients_required[nutrient] - nutrient_levels[nutrient]) for nutrient in nutrients_required}\n",
        "\n",
        "# Calculate the total cost of additional nutrients required\n",
        "total_cost = sum(shortfall[nutrient] * cost_per_unit[nutrient] for nutrient in nutrients_required)\n",
        "\n",
        "# Bar graph to visualize the comparison\n",
        "plt.bar(nutrients_required.keys(), nutrients_required.values(), color='b', label='Required')\n",
        "plt.bar(nutrient_levels.keys(), nutrient_levels.values(), color='g', label='Existing')\n",
        "plt.xlabel('Nutrients')\n",
        "plt.ylabel('Amount')\n",
        "plt.title('Comparison of Required Nutrients vs Existing Levels')\n",
        "plt.legend()\n",
        "plt.show()\n",
        "\n",
        "# Print the shortfall and total cost\n",
        "print(\"Shortfall of nutrients in the soil:\")\n",
        "for nutrient, value in shortfall.items():\n",
        "    print(f\"{nutrient}: {value} units\")\n",
        "\n",
        "print(f\"\\nTotal cost of additional nutrients required: ${total_cost}\")\n"
      ]
    }
  ],
  "metadata": {
    "colab": {
      "provenance": []
    },
    "kernelspec": {
      "display_name": "Python 3",
      "name": "python3"
    },
    "language_info": {
      "codemirror_mode": {
        "name": "ipython",
        "version": 3
      },
      "file_extension": ".py",
      "mimetype": "text/x-python",
      "name": "python",
      "nbconvert_exporter": "python",
      "pygments_lexer": "ipython3",
      "version": "3.9.12"
    }
  },
  "nbformat": 4,
  "nbformat_minor": 0
}
